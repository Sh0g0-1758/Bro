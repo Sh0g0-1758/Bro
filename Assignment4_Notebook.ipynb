{
 "cells": [
  {
   "cell_type": "markdown",
   "metadata": {},
   "source": [
    "# Network Security - Portscan"
   ]
  },
  {
   "cell_type": "markdown",
   "metadata": {},
   "source": [
    "Network operators actively monitor their networks to protect against various intrusion attacks. Network attackers often perform random \"portscans\" of IP addresses to find vulnerable machines to compromise. Network Intrusion Detection Systems (NIDS) attempt to detect such behavior and flag these portscanners as malicious. \n",
    "\n",
    "In this assignment, you will analyze the NetFlow network measurement data to identify potentially malicious traffic sent to the Princeton campus network. You will then simulate an online algorithm for identifying malicious remote hosts.\n",
    "\n",
    "This notebook has several parts. Each part contains sections marked TODO that you need to complete.\n",
    "\n",
    "**Put your name and netID in the cell below:**"
   ]
  },
  {
   "cell_type": "markdown",
   "metadata": {},
   "source": [
    "**Name:**\n",
    "\n",
    "**NetId:**"
   ]
  },
  {
   "cell_type": "markdown",
   "metadata": {},
   "source": [
    "### Parsing IPFIX Data\n",
    "The `netflow.csv` file contains pre-processed netflow data from a Princeton campus network border router. The data is \"unsampled,\" i.e. it compiles flow statistics for every packet that traverses any interface on the border router.  We used the `nfdump` tool to process the raw NetFlow data that the router collected. Each row of the `netflow.csv` file, except for the header on top, logs the following information for a flow:\n",
    "\n",
    "```\n",
    "Date first seen, Time first seen (m:s), Date last seen, Time last seen (m:s), Duration (s), Protocol, \n",
    "Src IP addr, Src port, Dst IP addr, Dst port, Packets, Bytes, Flags, Input interface, Output interface\t\t\n",
    "\n",
    "```\n",
    "\n",
    "To analyze this data, we first need to read it into a python data structure.  The following code uses the built-in `csv` library to read `netflow.csv` into a list of dictionaries.  The `csv` library documentation is here if you are interested: https://docs.python.org/2/library/csv.html"
   ]
  },
  {
   "cell_type": "code",
   "execution_count": 9,
   "metadata": {},
   "outputs": [
    {
     "name": "stdout",
     "output_type": "stream",
     "text": [
      "105360\n",
      "{'Date first seen': '10/29/15', 'Time first seen (m:s)': '04:48.9', 'Date last seen': '10/29/15', 'Time last seen (m:s)': '04:48.9', 'Duration (s)': '0', 'Protocol': 'ICMP', 'Src IP addr': '172.16.241.1', 'Src port': '0', 'Dst IP addr': '128.112.213.189', 'Dst port': '11', 'Packets': '1', 'Bytes': '94', 'Flags': '.A....', 'Input interface': '120', 'Output interface': '0'}\n"
     ]
    }
   ],
   "source": [
    "import csv\n",
    "\n",
    "with open('netflow.csv', 'r') as netflow_file:\n",
    "    netflow_reader = csv.DictReader(netflow_file)\n",
    "    netflow_data = list(netflow_reader)\n",
    "    \n",
    "print (f\"{len(netflow_data)}\")\n",
    "print (netflow_data[0])"
   ]
  },
  {
   "cell_type": "markdown",
   "metadata": {},
   "source": [
    "## ** Part A: c**\n",
    "\n",
    "In this part of the assignment, you will analyze TCP flow records to look for a TCP SYN scan attack. A [TCP SYN scan](https://en.wikipedia.org/wiki/Port_scanner#SYN_scanning) involves sending a TCP SYN packet to many different destinations to discover vulnerable machines on the network with open ports"
   ]
  },
  {
   "cell_type": "markdown",
   "metadata": {},
   "source": [
    "### Background"
   ]
  },
  {
   "cell_type": "markdown",
   "metadata": {},
   "source": [
    "In the previous assignment, we analyzed popular destinations by number of flows and by overall traffic volume. Such higher level statistics provide a coarse view of the network anomalies, but these statistics reveal less useful information about attacks and intrusion attempts. \n",
    "\n",
    "Abnormal activities are often difficult to detect amongst the amount of legitimate traffic that is typically found in a large enterprise network. Malicious hosts might not show up in lists of the top senders (either by bytes or by flows), and it can be difficult to determine the exact nature of attack traffic in advance. \n",
    "\n",
    "However, certain types of attacks have characteristic features that simplify their detection. For example, many attackers attempt to detect hosts running vulnerable services by scanning the address space using TCP SYN packets.  If a NetFlow record indicates that a flow contained a TCP SYN packet _but no packets with the ACK flag set_, we can conclude that this flow never completed and thus may be part of a TCP SYN scan---particularly if there are a lot of these flows.\n",
    "\n",
    "When an attacker sends a TCP SYN packet as part of a TCP SYN scan, there are three possible outcomes:\n",
    "- There is an active host at the destination IP address that is listening on the destination port of the SYN packet. In this case, the NetFlow record will contain both the TCP SYN and ACK flags in the flow record. These flows are difficult to distinguish from legitimate flows, because in this case a host actually answered the initial SYN. \n",
    "- There is no active host on the network at the destination IP address. In this case, we will only see TCP SYN flag. This is very different from the legitimate traffic behavior. It should be possible to identify malicious scanners by identifying these flows.\n",
    "- The destination is alive, but the port to which the SYN is sent is closed. If a client connects to a server's non-listening port, the server will send back a RST/ACK packet. According to normal TCP implementation guidelines, the scanner will immediately stop any TCP connection attempts once it receives a RST. Like in the previous case, the NetFlow record will show SYN requests from the scanner host to the destination host but no SYN/ACK packets in response."
   ]
  },
  {
   "cell_type": "markdown",
   "metadata": {},
   "source": [
    "### Analysis\n",
    "\n",
    "Let's first explore our NetFlow trace to determine whether the Princeton University campus network observes significant traffic with TCP SYN flags only (i.e., flows with TCP SYNs but no ACKs). \n",
    "\n",
    "In the following cell, determine the percentage of TCP flows in `netflow_data` that have SYN packet but no ACK packet. A flow has a SYN packet if there is an \"S\" in the \"Flags\" field.  A flow has an ACK packet if there is an \"A\" in the flags field.  Be sure to only consider TCP traffic (use the \"Protocol\" field).  \n",
    "\n",
    "Print the percentage you found at the end of the cell with an informative label (e.g. `print \"Percent SYN-only flows: {}\".format(percent_synonly)`)"
   ]
  },
  {
   "cell_type": "code",
   "execution_count": 14,
   "metadata": {},
   "outputs": [
    {
     "name": "stdout",
     "output_type": "stream",
     "text": [
      "TCP only: 73494\n",
      "TCP SYN only: 64993\n",
      "TCP SYN only ratio: 0.8843306936620676\n"
     ]
    }
   ],
   "source": [
    "tcp_only_count = 0\n",
    "tcp_syn_only_count = 0\n",
    "for i in netflow_data:\n",
    "    if i['Protocol'] == 'TCP':\n",
    "        tcp_only_count += 1\n",
    "        if 'S' in i['Flags'] and 'A' not in i['Flags'] and 'F' not in i['Flags']:\n",
    "            tcp_syn_only_count += 1\n",
    "\n",
    "print (f\"TCP only: {tcp_only_count}\")\n",
    "print (f\"TCP SYN only: {tcp_syn_only_count}\")\n",
    "\n",
    "tcp_syn_only_ratio = tcp_syn_only_count / tcp_only_count\n",
    "print (f\"TCP SYN only ratio: {tcp_syn_only_ratio}\")"
   ]
  },
  {
   "cell_type": "markdown",
   "metadata": {},
   "source": [
    "Check your answer by passing it (as a float between 0 and 100) to the `check_synonly_percentage()` function below.  This compares the md5 hash of your answer (rounded to the nearest int) against the md5 hash of the correct answer."
   ]
  },
  {
   "cell_type": "code",
   "execution_count": null,
   "metadata": {
    "scrolled": true
   },
   "outputs": [],
   "source": [
    "from testing import check_synonly_percent\n",
    "\n",
    "# TODO: pass the percentage of SYN-only TCP flows to the following function\n",
    "check_synonly_percent(TODO)"
   ]
  },
  {
   "cell_type": "markdown",
   "metadata": {},
   "source": [
    "Each of the flows that fall into this category are TCP SYN scan candidates."
   ]
  },
  {
   "cell_type": "markdown",
   "metadata": {},
   "source": [
    "## **Part B: Port Scan Detection Using Known Bad Ports**\n",
    "\n",
    "Another method of identifying attacks involves using TCP ports that are known to correspond to particularly vulnerable services.  For this assignment, we will consider ports 135, 139, 445, and 1433 as known bad ports. These correspond to Windows RPC, NetBIOS, SMB, and SQL-Snake attacks. We expect that most of the traffic to \"known bad\" ports are scanners, but that is not necessarily true for all traffic to these ports.  \n",
    "\n",
    "In the following cell, test this hypothesis by identifying which flows in the NetFlow data are to known bad ports on the Princeton network (regardless of IP address). Then see whether these flows are more likely to be TCP SYN scans then flows to other ports:\n",
    "\n",
    "1. Divide all the TCP flows in `netflow_data` into the following categories:\n",
    "   1. SYN-only flows to known bad ports\n",
    "   2. Other flows to known bad ports\n",
    "   3. SYN-only flows to other ports'\n",
    "   4. Other flows to other ports\n",
    "\n",
    "2. From these sets, calculate the following three percentages, store them in variables, and print them with informative labels:\n",
    "   1. Precent of flows to known bad ports out of all TCP flows\n",
    "   2. Percent of SYN-only flows out of all TCP flows to known bad ports\n",
    "   3. Percent of SYN-only flows out of all TCP flows to other ports"
   ]
  },
  {
   "cell_type": "code",
   "execution_count": 15,
   "metadata": {},
   "outputs": [
    {
     "name": "stdout",
     "output_type": "stream",
     "text": [
      "Precent of flows to known bad ports out of all TCP flows 0.05895719378452663 \n",
      "Percent of SYN-only flows out of all TCP flows to known bad ports 0.9979229171474728 \n",
      "Percent of SYN-only flows out of all TCP flows to other ports 0.8772140368126545 \n"
     ]
    }
   ],
   "source": [
    "# TODO write code as described above\n",
    "bad_ports = [\"135\", \"139\", \"445\", \"1433\"]\n",
    "\n",
    "tcp_flow_count = 0\n",
    "syn_only_bad_ports_count = 0\n",
    "other_bad_ports_count = 0\n",
    "syn_only_other_ports_count = 0\n",
    "other_other_ports_count = 0\n",
    "\n",
    "for i in netflow_data:\n",
    "    if i['Protocol'] == 'TCP':\n",
    "        tcp_flow_count += 1\n",
    "        if 'S' in i['Flags'] and 'A' not in i['Flags']:\n",
    "            if i['Dst port'] in bad_ports:\n",
    "                syn_only_bad_ports_count += 1\n",
    "            else:\n",
    "                syn_only_other_ports_count += 1\n",
    "        else:\n",
    "            if i['Dst port'] in bad_ports:\n",
    "                other_bad_ports_count += 1\n",
    "            else:\n",
    "                other_other_ports_count += 1\n",
    "\n",
    "print(f\"Precent of flows to known bad ports out of all TCP flows {(syn_only_bad_ports_count+other_bad_ports_count)/tcp_flow_count} \")\n",
    "print(f\"Percent of SYN-only flows out of all TCP flows to known bad ports {syn_only_bad_ports_count/(syn_only_bad_ports_count+other_bad_ports_count)} \")\n",
    "print(f\"Percent of SYN-only flows out of all TCP flows to other ports {syn_only_other_ports_count/(syn_only_other_ports_count+other_other_ports_count)} \")"
   ]
  },
  {
   "cell_type": "markdown",
   "metadata": {},
   "source": [
    "Check the 3 percentages you found in the previous cell by passing them to the corresponding `check` functions below"
   ]
  },
  {
   "cell_type": "code",
   "execution_count": null,
   "metadata": {},
   "outputs": [],
   "source": [
    "from testing import check_percent_knownbad, check_percent_synonly_knownbad, check_percent_synonly_other\n",
    "\n",
    "# TODO: pass percent values to following check functions\n",
    "check_percent_knownbad(TODO)\n",
    "check_percent_synonly_knownbad(TODO)\n",
    "check_percent_synonly_other(TODO)"
   ]
  },
  {
   "cell_type": "markdown",
   "metadata": {},
   "source": [
    "In addition to identifying potentially malicious flows, a network operator would like to identify potentially malicious hosts. The operator can then block future traffic from these hosts. \n",
    "_______________________________"
   ]
  },
  {
   "cell_type": "markdown",
   "metadata": {},
   "source": [
    "#### Question 1:\n",
    "Why is it necessary to identify malicious hosts in order to stop port scans in real traffic? Why isn't identifying SYN-only flows sufficient? "
   ]
  },
  {
   "cell_type": "markdown",
   "metadata": {},
   "source": [
    "#### Answer 1:\n",
    "Because we want to stop those attackers once and for all😘😘"
   ]
  },
  {
   "cell_type": "markdown",
   "metadata": {},
   "source": [
    "_________________________\n",
    "However, network operators want to avoid blocking benign traffic.  The potential for blocking benign traffic depends on the overlap between hosts that send malicious-looking traffic and hosts that send normal traffc. \n",
    "\n",
    "Complete the following code to find this overlap:\n",
    "1. Find a set of all hosts (IP addresses) that sent SYN-only or known bad port flows to Princeton during the recorded netflow data. We will call these the \"malicious hosts\"\n",
    "2. Find a set of all hosts that sent non-SYN-only flows to other (not known bad) ports. We will call these the \"benign hosts\"\n",
    "2. Find the intersection of the malicious hosts with the benign hosts. We will call this intersection the \"questionable\" hosts.\n",
    "3. Remove these \"questionable\" hosts from the \"malicious hosts\" and \"benign hosts\" sets.\n",
    "3. Calculate and print 3 values with informative labels:\n",
    "    1. The number of remaining malicious hosts \n",
    "    2. The number of remaining benign hosts\n",
    "    3. The number of questionable hosts\n",
    "\n",
    "Only include flows with source IPs external to the Princeton network (not 128.112.\\*.\\*).   We have provided an `internalIP()` function that returns True if the argument IP address is from within the Princeton network. \n",
    "\n",
    "The python `set` type will be useful, documentation here: https://docs.python.org/2/library/stdtypes.html#set-types-set-frozenset"
   ]
  },
  {
   "cell_type": "code",
   "execution_count": 21,
   "metadata": {},
   "outputs": [
    {
     "name": "stdout",
     "output_type": "stream",
     "text": [
      "Number of malicious hosts: 4479\n",
      "Number of benign hosts: 66\n",
      "Number of questionable hosts: 12\n"
     ]
    }
   ],
   "source": [
    "# import set\n",
    "# InternalIP returns true if the argument IP address is within the Princeton network\n",
    "def internalIP(ip):\n",
    "    s = ip.split('.')\n",
    "    if s[0] == \"128\" and s[1] == \"112\":\n",
    "        return True\n",
    "    return False\n",
    "\n",
    "malicious_host = set()\n",
    "benign_host = set()\n",
    "questionable_host = set()\n",
    "\n",
    "for i in netflow_data:\n",
    "    if i['Protocol'] == 'TCP' and not internalIP(i['Src IP addr']) and (('S' in i['Flags'] and 'A' not in i['Flags']) or (i['Dst port'] in bad_ports)):\n",
    "        malicious_host.add(i['Src IP addr'])\n",
    "    if i['Protocol'] == 'TCP' and not internalIP(i['Src IP addr']) and i['Dst port'] not in bad_ports and not ('S' in i['Flags'] and 'A' not in i['Flags']):\n",
    "        benign_host.add(i['Src IP addr'])\n",
    "\n",
    "questionable_host = malicious_host & benign_host\n",
    "malicious_filtered = malicious_host - questionable_host\n",
    "benign_filtered = benign_host - questionable_host\n",
    "\n",
    "print(f\"Number of malicious hosts: {len(malicious_filtered)}\")\n",
    "print(f\"Number of benign hosts: {len(benign_filtered)}\")\n",
    "print(f\"Number of questionable hosts: {len(questionable_host)}\")"
   ]
  },
  {
   "cell_type": "markdown",
   "metadata": {},
   "source": [
    "Pass the counts you found into the following `check` functions to verify them"
   ]
  },
  {
   "cell_type": "code",
   "execution_count": null,
   "metadata": {},
   "outputs": [],
   "source": [
    "from testing import check_num_malicious_hosts, check_num_benign_hosts, check_num_questionable_hosts\n",
    "\n",
    "# TODO: pass percent values to following check functions\n",
    "check_num_benign_hosts(TODO)\n",
    "check_num_malicious_hosts(TODO)\n",
    "check_num_questionable_hosts(TODO)"
   ]
  },
  {
   "cell_type": "markdown",
   "metadata": {},
   "source": [
    "________________________\n",
    "#### Question 2:\n",
    "Who are all of these potentially malicious hosts? Choose 2 IP addresses in the set of \"malicious hosts\" and see what you can find out about them using `whois` and searching online.  Report the most interesting parts of your findings below. "
   ]
  },
  {
   "cell_type": "markdown",
   "metadata": {},
   "source": [
    "#### Answer 2:\n",
    "*TODO: your answer here.*"
   ]
  },
  {
   "cell_type": "markdown",
   "metadata": {},
   "source": [
    "__________________________________\n",
    "## **Part C: Online Port Scan Detection**"
   ]
  },
  {
   "cell_type": "markdown",
   "metadata": {},
   "source": [
    "In the previous sections, we used offline analysis of pre-recorded traffic to identify potentially malicious hosts. A real network operator would not want to wait for offline analysis in order to detect potential threats.  Instead, he or she would configure a network intrusion detection system (NIDS) to use an online port scan detection algorithm to classify hosts as benign or malicious, updating these classifications in real-time as traffic flows occur. \n",
    "\n",
    "### Bro's Port Scan Detection Algorithm\n",
    "\n",
    "The port scan detection algorithm used in the [Bro system](https://pdfs.semanticscholar.org/f121/cde8d3d5364717caf2b91d27a270ec004cac.pdf) was published in 1999 by Vern Paxson, et al.\n",
    "\n",
    "Bro's detection algorithm builds on the same intution that failed connection attempts (SYN-only or SYN/RST flows) are good indicators for identifying scans.\n",
    "\n",
    "The algorithm treats connection attempts differently depending on the service (determined by port) to which the connection is intended.  Bro only tracks failed connection attempts (SYN-only or SYN/RST) to a specific set of \"known good\" services.\n",
    "\n",
    "For all other services, Bro tracks all connection attempts, whether or not the attempts fail or succeed. \n",
    "\n",
    "For each sending host, Bro counts the number of distinct destination addresses corresponding to tracked connection attempts. If the number exceeds some threshold, `T`, Bro flags the host as a scanner.\n",
    "\n",
    "By default, the set of services for which only failures are considered includes HTTP (80), SSH (22), Telnet (23), SMTP (25), IDENT (113), FTP (20), and Gopher (70). These services are \"known good,\" i.e. we expect many connections to be initiated to these services, so we should not count successful connection attempts against a sending host. \n",
    "\n",
    "#### Task: Implement Bro's port scan detection algorithm.\n",
    "\n",
    "Complete the Bro class below to implement Bro's port scan detection algorithm.  "
   ]
  },
  {
   "cell_type": "code",
   "execution_count": 87,
   "metadata": {},
   "outputs": [],
   "source": [
    "from collections import defaultdict\n",
    "\n",
    "# TODO: complete the methods marked TODO in the Bro class to implement the Bro algorithm\n",
    "class Bro:\n",
    "    \n",
    "    # class constructor saves the parameter threshold value and sets instance variables\n",
    "    def __init__(self, threshold):\n",
    "        self.T = threshold\n",
    "        \n",
    "        # self.good_services is the list of port numbers to which successful connections \n",
    "        #     (SYN and ACK) should not be tracked\n",
    "        self.good_services = [80, 22, 23, 25, 113, 20, 70]\n",
    "        \n",
    "        # self.tracked maps sending hosts to a set of destination addresses\n",
    "        #     from tracked connection attempts \n",
    "        self.tracked = defaultdict(set)\n",
    "\n",
    "        \n",
    "    # TODO: block_connection() takes a sending host IP address of an incoming connection\n",
    "    #       returns True if the connection should be blocked (because the host has surpassed\n",
    "    #       the threshold of destination addresses in tracked connection attempts) or False otherwise\n",
    "    def block_connection(self, host_ip):\n",
    "        if host_ip in self.tracked:\n",
    "            if len(self.tracked[host_ip]) >= self.T:\n",
    "                return True\n",
    "        return False\n",
    "    \n",
    "    \n",
    "    # TODO: process_flow() takes a netflow record of a TCP flow that was not blocked\n",
    "    #       (as a netflow record dict) and should update self.tracked\n",
    "    #       with the contents of the record\n",
    "\n",
    "    \n",
    "    def process_flow(self, netflow_record):\n",
    "        # for idx in range(len(netflow_data)):\n",
    "        i = netflow_record\n",
    "        if i['Protocol'] == 'TCP' and not internalIP(i['Src IP addr']) and i['Dst port'] not in self.good_services:\n",
    "            # if i['Src IP addr'] in self.tracked:\n",
    "            self.tracked[i['Src IP addr']].add(i['Dst IP addr'])\n",
    "            \n",
    "        if i['Protocol'] == 'TCP' and not internalIP(i['Src IP addr']) and i['Dst port'] in self.good_services and 'S' in i['Flags'] and 'A' not in i['Flags']:\n",
    "            # if i['Src IP addr'] in self.tracked:\n",
    "            self.tracked[i['Src IP addr']].add(i['Dst Ip addr'])\n"
   ]
  },
  {
   "cell_type": "markdown",
   "metadata": {},
   "source": [
    "Note that a full implementation of Bro's detection algorithm would also contain a moving time window over which tracked connection attempts are remembered.  This prevents a benign host from being blocked if it is dynamically assigned an IP address that previously belonged to an attacker. However, the NetFlow data we are using in this assignment is from only approximately 5 minutes of traffic, so we don't need to worry about time windows. \n",
    "\n",
    "The following `run_bro()` function takes a threshold value and runs your Bro algorithm on the NetFlow data, returning a set of all addresses blocked during the course of the algorithm. This function is already complete."
   ]
  },
  {
   "cell_type": "code",
   "execution_count": 88,
   "metadata": {
    "collapsed": true
   },
   "outputs": [],
   "source": [
    "from tqdm import tqdm\n",
    "def run_bro(threshold):\n",
    "    blocked_hosts = set()\n",
    "    bro = Bro(threshold)\n",
    "    for flow in tqdm(netflow_data):\n",
    "        src_ip = flow[\"Src IP addr\"]\n",
    "        if flow[\"Protocol\"] != \"TCP\":\n",
    "            continue\n",
    "        if internalIP(src_ip):\n",
    "            continue\n",
    "        block = bro.block_connection(src_ip)\n",
    "        if block:\n",
    "            blocked_hosts.add(src_ip)\n",
    "            continue\n",
    "        bro.process_flow(flow)\n",
    "    return blocked_hosts      "
   ]
  },
  {
   "cell_type": "markdown",
   "metadata": {},
   "source": [
    "Before running Bro on their network intrusion detection system, a network operator might want to know how sensitive the algorithm is to the threshold variable `T`. \n",
    "\n",
    "In the following cell, create a 120 element list such that element `i` contains the number of blocked hosts in the set returned by `run_bro(i)`.  Then pass the list to the `plot_bro()` function to plot a sensitivity curve."
   ]
  },
  {
   "cell_type": "code",
   "execution_count": 92,
   "metadata": {},
   "outputs": [
    {
     "name": "stdout",
     "output_type": "stream",
     "text": [
      "CPU times: user 29 µs, sys: 0 ns, total: 29 µs\n",
      "Wall time: 79.9 µs\n"
     ]
    },
    {
     "name": "stderr",
     "output_type": "stream",
     "text": [
      "100%|██████████| 105360/105360 [00:00<00:00, 264533.77it/s]\n"
     ]
    }
   ],
   "source": [
    "%time\n",
    "blocked_hosts = run_bro(10)"
   ]
  },
  {
   "cell_type": "code",
   "execution_count": 90,
   "metadata": {},
   "outputs": [
    {
     "name": "stderr",
     "output_type": "stream",
     "text": [
      "100%|██████████| 105360/105360 [00:00<00:00, 277563.31it/s]\n"
     ]
    }
   ],
   "source": [
    "%matplotlib inline\n",
    "from plotting import plot_bro\n",
    "\n",
    "# TODO: generate the list described above\n",
    "# for i in range(1, 120,10):\n",
    "blocked_hosts = run_bro(10)\n",
    "    # plot_bro(len(blocked_ho/sts))\n",
    "\n",
    "    \n",
    "# # TODO: pass the list to the plot_bro function\n",
    "# plot_bro(TODO)"
   ]
  },
  {
   "cell_type": "code",
   "execution_count": 91,
   "metadata": {},
   "outputs": [
    {
     "data": {
      "text/plain": [
       "{'103.11.36.148',\n",
       " '103.11.36.74',\n",
       " '104.156.228.147',\n",
       " '104.27.132.121',\n",
       " '104.4.87.145',\n",
       " '106.120.171.19',\n",
       " '110.175.231.230',\n",
       " '112.171.173.85',\n",
       " '113.139.176.162',\n",
       " '114.119.37.86',\n",
       " '114.96.137.87',\n",
       " '115.29.2.4',\n",
       " '116.211.0.90',\n",
       " '117.0.133.176',\n",
       " '117.205.214.184',\n",
       " '117.221.93.135',\n",
       " '117.222.110.243',\n",
       " '118.163.88.138',\n",
       " '118.248.224.139',\n",
       " '119.84.125.22',\n",
       " '120.132.50.66',\n",
       " '120.237.44.18',\n",
       " '121.10.142.231',\n",
       " '123.110.181.245',\n",
       " '123.123.44.243',\n",
       " '123.151.42.61',\n",
       " '123.59.51.232',\n",
       " '124.134.208.48',\n",
       " '125.137.198.98',\n",
       " '125.77.19.39',\n",
       " '125.77.19.41',\n",
       " '125.77.19.49',\n",
       " '125.77.19.53',\n",
       " '125.97.246.5',\n",
       " '128.232.110.28',\n",
       " '137.116.71.170',\n",
       " '14.17.103.145',\n",
       " '14.17.109.75',\n",
       " '14.223.13.89',\n",
       " '14.32.188.173',\n",
       " '14.43.225.111',\n",
       " '140.113.194.87',\n",
       " '141.212.121.192',\n",
       " '141.212.122.100',\n",
       " '141.212.122.101',\n",
       " '141.212.122.102',\n",
       " '141.212.122.103',\n",
       " '141.212.122.104',\n",
       " '141.212.122.105',\n",
       " '141.212.122.107',\n",
       " '141.212.122.108',\n",
       " '141.212.122.109',\n",
       " '141.212.122.110',\n",
       " '141.212.122.111',\n",
       " '141.212.122.128',\n",
       " '141.212.122.129',\n",
       " '141.212.122.130',\n",
       " '141.212.122.131',\n",
       " '141.212.122.132',\n",
       " '141.212.122.133',\n",
       " '141.212.122.134',\n",
       " '141.212.122.135',\n",
       " '141.212.122.136',\n",
       " '141.212.122.137',\n",
       " '141.212.122.138',\n",
       " '141.212.122.139',\n",
       " '141.212.122.140',\n",
       " '141.212.122.141',\n",
       " '141.212.122.142',\n",
       " '141.212.122.143',\n",
       " '141.212.122.64',\n",
       " '141.212.122.65',\n",
       " '141.212.122.66',\n",
       " '141.212.122.67',\n",
       " '141.212.122.68',\n",
       " '141.212.122.69',\n",
       " '141.212.122.70',\n",
       " '141.212.122.71',\n",
       " '141.212.122.72',\n",
       " '141.212.122.73',\n",
       " '141.212.122.74',\n",
       " '141.212.122.75',\n",
       " '141.212.122.76',\n",
       " '141.212.122.77',\n",
       " '141.212.122.78',\n",
       " '141.212.122.79',\n",
       " '141.212.122.96',\n",
       " '141.212.122.97',\n",
       " '141.212.122.98',\n",
       " '141.212.122.99',\n",
       " '146.185.239.102',\n",
       " '148.163.4.23',\n",
       " '149.202.65.93',\n",
       " '149.202.76.9',\n",
       " '151.52.17.111',\n",
       " '162.244.32.49',\n",
       " '162.244.35.24',\n",
       " '163.53.247.3',\n",
       " '168.187.97.107',\n",
       " '169.229.3.90',\n",
       " '169.57.5.20',\n",
       " '171.13.217.190',\n",
       " '172.98.67.47',\n",
       " '172.98.67.56',\n",
       " '174.7.5.11',\n",
       " '175.143.30.97',\n",
       " '177.140.20.10',\n",
       " '177.239.114.12',\n",
       " '177.40.26.8',\n",
       " '178.187.82.195',\n",
       " '178.42.188.122',\n",
       " '178.45.33.200',\n",
       " '179.43.147.205',\n",
       " '181.110.162.68',\n",
       " '181.63.251.33',\n",
       " '182.116.175.31',\n",
       " '182.118.39.80',\n",
       " '182.52.148.207',\n",
       " '182.73.186.225',\n",
       " '182.75.112.230',\n",
       " '184.105.139.111',\n",
       " '184.105.139.76',\n",
       " '184.105.139.83',\n",
       " '184.105.139.87',\n",
       " '184.105.139.96',\n",
       " '184.105.247.207',\n",
       " '184.105.247.235',\n",
       " '184.105.247.240',\n",
       " '184.105.247.251',\n",
       " '184.105.247.252',\n",
       " '185.65.201.59',\n",
       " '187.57.11.181',\n",
       " '188.138.1.218',\n",
       " '188.138.17.205',\n",
       " '188.138.9.50',\n",
       " '189.46.15.161',\n",
       " '190.173.11.230',\n",
       " '190.69.155.237',\n",
       " '192.227.213.210',\n",
       " '192.240.96.106',\n",
       " '192.3.13.67',\n",
       " '192.99.104.107',\n",
       " '192.99.152.235',\n",
       " '192.99.45.166',\n",
       " '193.160.224.47',\n",
       " '193.189.116.72',\n",
       " '195.88.209.6',\n",
       " '196.215.101.57',\n",
       " '196.44.108.118',\n",
       " '196.47.173.21',\n",
       " '198.100.160.44',\n",
       " '199.195.109.20',\n",
       " '200.164.10.229',\n",
       " '201.191.153.235',\n",
       " '202.75.54.174',\n",
       " '203.34.37.19',\n",
       " '208.80.85.48',\n",
       " '209.119.55.249',\n",
       " '210.245.27.251',\n",
       " '211.23.23.69',\n",
       " '212.73.129.172',\n",
       " '213.165.171.4',\n",
       " '213.248.188.110',\n",
       " '216.218.206.110',\n",
       " '216.218.206.112',\n",
       " '216.218.206.74',\n",
       " '216.218.206.84',\n",
       " '216.218.206.86',\n",
       " '216.218.206.87',\n",
       " '216.218.206.95',\n",
       " '216.243.31.2',\n",
       " '218.1.121.46',\n",
       " '218.1.31.135',\n",
       " '218.22.211.69',\n",
       " '222.186.190.71',\n",
       " '222.186.34.74',\n",
       " '222.186.34.84',\n",
       " '222.246.244.33',\n",
       " '223.147.34.135',\n",
       " '27.117.10.42',\n",
       " '36.99.147.131',\n",
       " '37.147.151.110',\n",
       " '37.57.218.219',\n",
       " '40.135.233.14',\n",
       " '41.188.54.84',\n",
       " '41.225.106.90',\n",
       " '45.56.68.164',\n",
       " '46.105.43.5',\n",
       " '46.161.40.33',\n",
       " '46.162.116.98',\n",
       " '46.183.219.66',\n",
       " '46.29.248.181',\n",
       " '49.83.223.223',\n",
       " '5.190.65.113',\n",
       " '50.7.124.245',\n",
       " '54.207.0.93',\n",
       " '54.64.163.243',\n",
       " '54.67.32.208',\n",
       " '59.1.242.146',\n",
       " '59.126.156.210',\n",
       " '59.148.102.171',\n",
       " '60.214.208.153',\n",
       " '61.163.122.155',\n",
       " '61.234.56.107',\n",
       " '62.210.136.203',\n",
       " '62.75.189.85',\n",
       " '64.125.239.10',\n",
       " '64.125.239.105',\n",
       " '64.125.239.107',\n",
       " '64.125.239.111',\n",
       " '64.125.239.112',\n",
       " '64.125.239.12',\n",
       " '64.125.239.122',\n",
       " '64.125.239.127',\n",
       " '64.125.239.133',\n",
       " '64.125.239.139',\n",
       " '64.125.239.14',\n",
       " '64.125.239.140',\n",
       " '64.125.239.156',\n",
       " '64.125.239.170',\n",
       " '64.125.239.176',\n",
       " '64.125.239.177',\n",
       " '64.125.239.179',\n",
       " '64.125.239.182',\n",
       " '64.125.239.183',\n",
       " '64.125.239.199',\n",
       " '64.125.239.203',\n",
       " '64.125.239.23',\n",
       " '64.125.239.235',\n",
       " '64.125.239.243',\n",
       " '64.125.239.250',\n",
       " '64.125.239.57',\n",
       " '64.125.239.63',\n",
       " '64.125.239.71',\n",
       " '64.125.239.83',\n",
       " '64.125.239.85',\n",
       " '64.125.239.91',\n",
       " '64.79.103.19',\n",
       " '65.26.18.138',\n",
       " '68.44.33.226',\n",
       " '71.209.177.153',\n",
       " '71.36.164.49',\n",
       " '71.6.135.131',\n",
       " '71.6.165.200',\n",
       " '71.6.167.142',\n",
       " '74.82.47.16',\n",
       " '74.82.47.18',\n",
       " '74.82.47.22',\n",
       " '74.82.47.24',\n",
       " '74.82.47.30',\n",
       " '74.82.47.46',\n",
       " '74.82.47.59',\n",
       " '74.82.47.7',\n",
       " '75.155.151.162',\n",
       " '75.82.202.48',\n",
       " '78.164.0.219',\n",
       " '79.124.76.10',\n",
       " '79.127.114.65',\n",
       " '81.200.127.220',\n",
       " '81.211.125.195',\n",
       " '81.65.63.151',\n",
       " '82.221.105.6',\n",
       " '82.221.105.7',\n",
       " '85.25.103.50',\n",
       " '85.25.43.94',\n",
       " '87.223.143.69',\n",
       " '89.251.155.201',\n",
       " '93.119.130.11',\n",
       " '94.102.48.194',\n",
       " '94.23.151.40',\n",
       " '95.254.59.213'}"
      ]
     },
     "execution_count": 91,
     "metadata": {},
     "output_type": "execute_result"
    }
   ],
   "source": [
    "blocked_hosts"
   ]
  },
  {
   "cell_type": "markdown",
   "metadata": {},
   "source": [
    "_____\n",
    "#### Question 3:\n",
    "A threshold of 100 is the default for Bro's algorithm. Given the results in the above plot, why do you think this value was chosen?  What are the pros and cons of choosing a higher or lower threshold?"
   ]
  },
  {
   "cell_type": "markdown",
   "metadata": {},
   "source": [
    "#### Answer 3:\n",
    "\n",
    "*TODO: your answer here*"
   ]
  },
  {
   "cell_type": "markdown",
   "metadata": {},
   "source": [
    "#### Question 4:\n",
    "A threshold of 100 would have blocked $\\approx$115 hosts (if your implementation didn't, you should check it for bugs).  This is many fewer hosts than the number of malicious hosts found in Part B.  What differences between Bro's algorithm and the method usd in Part B caused this difference? Which method do you think is more likely to be accurate? Why?"
   ]
  },
  {
   "cell_type": "markdown",
   "metadata": {},
   "source": [
    "#### Answer 4:\n",
    "\n",
    "*TODO: your answer here.*"
   ]
  },
  {
   "cell_type": "markdown",
   "metadata": {},
   "source": [
    "___________"
   ]
  },
  {
   "cell_type": "markdown",
   "metadata": {},
   "source": [
    "There are many other online port scan detection algorithms in addition to Bro. For example, the Threshold Random Walk (TRW) algorithm uses maximum likelihood ratios to tune the threshold parameter in an attempt to block as much malicious traffic as possible without blacklisting benign hosts. \n",
    "\n",
    "If you are curious, the TRW algorithm is described in this paper: http://www.icir.org/vern/papers/portscan-oak04.pdf. "
   ]
  },
  {
   "cell_type": "markdown",
   "metadata": {},
   "source": [
    "## Submission"
   ]
  },
  {
   "cell_type": "markdown",
   "metadata": {},
   "source": [
    "\n",
    "**Remember to \"Save and Checkpoint\" (from the \"File\" menu above) before you leave the notebook or close your tab.**"
   ]
  }
 ],
 "metadata": {
  "kernelspec": {
   "display_name": "base",
   "language": "python",
   "name": "python3"
  },
  "language_info": {
   "codemirror_mode": {
    "name": "ipython",
    "version": 3
   },
   "file_extension": ".py",
   "mimetype": "text/x-python",
   "name": "python",
   "nbconvert_exporter": "python",
   "pygments_lexer": "ipython3",
   "version": "3.12.2"
  }
 },
 "nbformat": 4,
 "nbformat_minor": 1
}

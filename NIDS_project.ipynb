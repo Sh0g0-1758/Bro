{
 "cells": [
  {
   "cell_type": "markdown",
   "metadata": {},
   "source": [
    "### Parsing IPFIX Data\n",
    "The `netflow.csv` file contains pre-processed netflow data from a Princeton campus network border router. The data is \"unsampled,\" i.e. it compiles flow statistics for every packet that traverses any interface on the border router. \n",
    "\n",
    "```\n",
    "Date first seen, Time first seen (m:s), Date last seen, Time last seen (m:s), Duration (s), Protocol, \n",
    "Src IP addr, Src port, Dst IP addr, Dst port, Packets, Bytes, Flags, Input interface, Output interface\t\t\n",
    "\n",
    "```\n"
   ]
  },
  {
   "cell_type": "code",
   "execution_count": 1,
   "metadata": {},
   "outputs": [
    {
     "name": "stdout",
     "output_type": "stream",
     "text": [
      "number of netflow records 105360\n",
      "sample netflow record \n",
      "{'Date first seen': '10/29/15', 'Time first seen (m:s)': '04:48.9', 'Date last seen': '10/29/15', 'Time last seen (m:s)': '04:48.9', 'Duration (s)': '0', 'Protocol': 'ICMP', 'Src IP addr': '172.16.241.1', 'Src port': '0', 'Dst IP addr': '128.112.213.189', 'Dst port': '11', 'Packets': '1', 'Bytes': '94', 'Flags': '.A....', 'Input interface': '120', 'Output interface': '0'}\n"
     ]
    }
   ],
   "source": [
    "import csv\n",
    "\n",
    "with open('netflow.csv', 'r') as netflow_file:\n",
    "    netflow_reader = csv.DictReader(netflow_file)\n",
    "    netflow_data = list(netflow_reader)\n",
    "    \n",
    "print (f\"number of netflow records {len(netflow_data)}\")\n",
    "print (f\"sample netflow record \\n{netflow_data[0]}\")"
   ]
  },
  {
   "cell_type": "markdown",
   "metadata": {},
   "source": [
    " many attackers attempt to detect hosts running vulnerable services by scanning the address space using TCP SYN packets.  If a NetFlow record indicates that a flow contained a TCP SYN packet _but no packets with the ACK flag set_, we can conclude that this flow never completed and thus may be part of a TCP SYN scan---particularly if there are a lot of these flows.\n",
    " When an attacker sends a TCP SYN packet as part of a TCP SYN scan, there are three possible outcomes:\n",
    "- There is an active host at the destination IP address that is listening on the destination port of the SYN packet. In this case, the NetFlow record will contain both the TCP SYN and ACK flags in the flow record. These flows are difficult to distinguish from legitimate flows, because in this case a host actually answered the initial SYN. \n",
    "- There is no active host on the network at the destination IP address. In this case, we will only see TCP SYN flag. This is very different from the legitimate traffic behavior. It should be possible to identify malicious scanners by identifying these flows.\n",
    "- The destination is alive, but the port to which the SYN is sent is closed. If a client connects to a server's non-listening port, the server will send back a RST/ACK packet. According to normal TCP implementation guidelines, the scanner will immediately stop any TCP connection attempts once it receives a RST. Like in the previous case, the NetFlow record will show SYN requests from the scanner host to the destination host but no SYN/ACK packets in response."
   ]
  },
  {
   "cell_type": "markdown",
   "metadata": {},
   "source": [
    "### PART A: TCP SYN Scan Detection\n",
    "In this part we calculate the percentage SYN only flow in the network which is used to inspect if the network has some kind of malicious flow."
   ]
  },
  {
   "cell_type": "code",
   "execution_count": 2,
   "metadata": {},
   "outputs": [
    {
     "name": "stdout",
     "output_type": "stream",
     "text": [
      "TCP only: 73494\n",
      "TCP SYN only: 64993\n",
      "TCP SYN only ratio: 0.8843306936620676\n"
     ]
    }
   ],
   "source": [
    "tcp_only_count = 0\n",
    "tcp_syn_only_count = 0\n",
    "for i in netflow_data:\n",
    "    if i['Protocol'] == 'TCP':\n",
    "        tcp_only_count += 1\n",
    "        if 'S' in i['Flags'] and 'A' not in i['Flags'] and 'F' not in i['Flags']:\n",
    "            tcp_syn_only_count += 1\n",
    "\n",
    "print (f\"TCP only: {tcp_only_count}\")\n",
    "print (f\"TCP SYN only: {tcp_syn_only_count}\")\n",
    "\n",
    "tcp_syn_only_ratio = tcp_syn_only_count / tcp_only_count\n",
    "print (f\"TCP SYN only ratio: {tcp_syn_only_ratio}\")"
   ]
  },
  {
   "cell_type": "markdown",
   "metadata": {},
   "source": [
    "We set a threshold to decide whether to consider some percentage indicative of malicious activity"
   ]
  },
  {
   "cell_type": "markdown",
   "metadata": {},
   "source": [
    "### PART B: Port Scan Detection Using Known Bad Ports\n",
    "Another method of identifying attacks involves using TCP ports that are known to correspond to particularly vulnerable services. we will consider ports 135, 139, 445, and 1433 as known bad ports. These correspond to Windows RPC, NetBIOS, SMB, and SQL-Snake attacks. We expect that most of the traffic to \"known bad\" ports are scanners, but that is not necessarily true for all traffic to these ports.\n",
    "\n",
    "we calculate the following three percentages, store them in variables, and print them with informative labels:\n",
    "   1. Precent of flows to known bad ports out of all TCP flows\n",
    "   2. Percent of SYN-only flows out of all TCP flows to known bad ports\n",
    "   3. Percent of SYN-only flows out of all TCP flows to other ports"
   ]
  },
  {
   "cell_type": "code",
   "execution_count": 3,
   "metadata": {},
   "outputs": [
    {
     "name": "stdout",
     "output_type": "stream",
     "text": [
      "Precent of flows to known bad ports out of all TCP flows 0.05895719378452663 \n",
      "Percent of SYN-only flows out of all TCP flows to known bad ports 0.9979229171474728 \n",
      "Percent of SYN-only flows out of all TCP flows to other ports 0.8772140368126545 \n"
     ]
    }
   ],
   "source": [
    "bad_ports = [\"135\", \"139\", \"445\", \"1433\"]\n",
    "\n",
    "tcp_flow_count = 0\n",
    "syn_only_bad_ports_count = 0\n",
    "other_bad_ports_count = 0\n",
    "syn_only_other_ports_count = 0\n",
    "other_other_ports_count = 0\n",
    "\n",
    "for i in netflow_data:\n",
    "    if i['Protocol'] == 'TCP':\n",
    "        tcp_flow_count += 1\n",
    "        if 'S' in i['Flags'] and 'A' not in i['Flags']:\n",
    "            if i['Dst port'] in bad_ports:\n",
    "                syn_only_bad_ports_count += 1\n",
    "            else:\n",
    "                syn_only_other_ports_count += 1\n",
    "        else:\n",
    "            if i['Dst port'] in bad_ports:\n",
    "                other_bad_ports_count += 1\n",
    "            else:\n",
    "                other_other_ports_count += 1\n",
    "\n",
    "print(f\"Precent of flows to known bad ports out of all TCP flows {(syn_only_bad_ports_count+other_bad_ports_count)/tcp_flow_count} \")\n",
    "print(f\"Percent of SYN-only flows out of all TCP flows to known bad ports {syn_only_bad_ports_count/(syn_only_bad_ports_count+other_bad_ports_count)} \")\n",
    "print(f\"Percent of SYN-only flows out of all TCP flows to other ports {syn_only_other_ports_count/(syn_only_other_ports_count+other_other_ports_count)} \")"
   ]
  },
  {
   "cell_type": "markdown",
   "metadata": {},
   "source": [
    "Here we can see that the syn only flow to known bad ports is in higher proportion as compared to other ports indicative of syn scan targeted on them"
   ]
  },
  {
   "cell_type": "markdown",
   "metadata": {},
   "source": [
    "But we would also like to identify the potentially malicious hosts. We identify the malicious, benign and questionable hosts here like this-\n",
    "1. Find the set of all hosts (IP addresses) that sent SYN-only or known bad port flows to Princeton during the recorded netflow data. We will call these the \"malicious hosts\"\n",
    "2. Find the set of all hosts that sent non-SYN-only flows to other (not known bad) ports. We will call these the \"benign hosts\"\n",
    "2. Find the intersection of the malicious hosts with the benign hosts. We will call this intersection the \"questionable\" hosts.\n",
    "3. Remove these \"questionable\" hosts from the \"malicious hosts\" and \"benign hosts\" sets.\n",
    "\n",
    "We then print a few informative statistics over them"
   ]
  },
  {
   "cell_type": "code",
   "execution_count": 4,
   "metadata": {},
   "outputs": [
    {
     "name": "stdout",
     "output_type": "stream",
     "text": [
      "Number of malicious hosts: 4479\n",
      "Number of benign hosts: 66\n",
      "Number of questionable hosts: 12\n"
     ]
    }
   ],
   "source": [
    "def internalIP(ip):\n",
    "    s = ip.split('.')\n",
    "    if s[0] == \"128\" and s[1] == \"112\":\n",
    "        return True\n",
    "    return False\n",
    "\n",
    "malicious_host = set()\n",
    "benign_host = set()\n",
    "questionable_host = set()\n",
    "\n",
    "for i in netflow_data:\n",
    "    if i['Protocol'] == 'TCP' and not internalIP(i['Src IP addr']) and (('S' in i['Flags'] and 'A' not in i['Flags']) or (i['Dst port'] in bad_ports)):\n",
    "        malicious_host.add(i['Src IP addr'])\n",
    "    if i['Protocol'] == 'TCP' and not internalIP(i['Src IP addr']) and i['Dst port'] not in bad_ports and not ('S' in i['Flags'] and 'A' not in i['Flags']):\n",
    "        benign_host.add(i['Src IP addr'])\n",
    "\n",
    "questionable_host = malicious_host & benign_host\n",
    "malicious_filtered = malicious_host - questionable_host\n",
    "benign_filtered = benign_host - questionable_host\n",
    "\n",
    "print(f\"Number of malicious hosts: {len(malicious_filtered)}\")\n",
    "print(f\"Number of benign hosts: {len(benign_filtered)}\")\n",
    "print(f\"Number of questionable hosts: {len(questionable_host)}\")"
   ]
  },
  {
   "cell_type": "markdown",
   "metadata": {},
   "source": [
    "### PART C: Bro's Port Scan Detection Algorithm\n",
    "This method is used for detecting malicious host in realtime. \n",
    "The port scan detection algorithm used in the [Bro system](https://pdfs.semanticscholar.org/f121/cde8d3d5364717caf2b91d27a270ec004cac.pdf) was published in 1999 by Vern Paxson, et al.\n",
    "\n",
    "Bro's detection algorithm builds on the same intution that failed connection attempts (SYN-only or SYN/RST flows) are good indicators for identifying scans.\n",
    "\n",
    "The algorithm treats connection attempts differently depending on the service (determined by port) to which the connection is intended.  Bro only tracks failed connection attempts (SYN-only or SYN/RST) to a specific set of \"known good\" services.\n",
    "\n",
    "For all other services, Bro tracks all connection attempts, whether or not the attempts fail or succeed. \n",
    "\n",
    "For each sending host, Bro counts the number of distinct destination addresses corresponding to tracked connection attempts. If the number exceeds some threshold, `T`, Bro flags the host as a scanner.\n",
    "\n",
    "By default, the set of services for which only failures are considered includes HTTP (80), SSH (22), Telnet (23), SMTP (25), IDENT (113), FTP (20), and Gopher (70). These services are \"known good,\" i.e. we expect many connections to be initiated to these services, so we should not count successful connection attempts against a sending host. "
   ]
  },
  {
   "cell_type": "code",
   "execution_count": 5,
   "metadata": {},
   "outputs": [],
   "source": [
    "from collections import defaultdict\n",
    "\n",
    "class Bro:\n",
    "    \n",
    "    # class constructor saves the parameter threshold value and sets instance variables\n",
    "    def __init__(self, threshold):\n",
    "        self.T = threshold\n",
    "        \n",
    "        # self.good_services is the list of port numbers to which successful connections \n",
    "        #     (SYN and ACK) should not be tracked\n",
    "        self.good_services = [80, 22, 23, 25, 113, 20, 70]\n",
    "        \n",
    "        # self.tracked maps sending hosts to a set of destination addresses\n",
    "        #     from tracked connection attempts \n",
    "        self.tracked = defaultdict(set)\n",
    "\n",
    "    def block_connection(self, host_ip):\n",
    "        if host_ip in self.tracked:\n",
    "            if len(self.tracked[host_ip]) >= self.T:\n",
    "                return True\n",
    "        return False\n",
    "    \n",
    "    def process_flow(self, netflow_record):\n",
    "        i = netflow_record\n",
    "        if i['Protocol'] == 'TCP' and not internalIP(i['Src IP addr']) and i['Dst port'] not in self.good_services:\n",
    "            self.tracked[i['Src IP addr']].add(i['Dst IP addr'])\n",
    "            \n",
    "        if i['Protocol'] == 'TCP' and not internalIP(i['Src IP addr']) and i['Dst port'] in self.good_services and 'S' in i['Flags'] and 'A' not in i['Flags']:\n",
    "            self.tracked[i['Src IP addr']].add(i['Dst Ip addr'])\n"
   ]
  },
  {
   "cell_type": "markdown",
   "metadata": {},
   "source": [
    "`run_bro()` function takes a threshold value and runs your Bro algorithm on the NetFlow data, returning a set of all addresses blocked during the course of the algorithm. This function is already complete."
   ]
  },
  {
   "cell_type": "code",
   "execution_count": 6,
   "metadata": {},
   "outputs": [],
   "source": [
    "from tqdm import tqdm\n",
    "def run_bro(threshold):\n",
    "    blocked_hosts = set()\n",
    "    bro = Bro(threshold)\n",
    "    for flow in tqdm(netflow_data):\n",
    "        src_ip = flow[\"Src IP addr\"]\n",
    "        if flow[\"Protocol\"] != \"TCP\":\n",
    "            continue\n",
    "        if internalIP(src_ip):\n",
    "            continue\n",
    "        block = bro.block_connection(src_ip)\n",
    "        if block:\n",
    "            blocked_hosts.add(src_ip)\n",
    "            continue\n",
    "        bro.process_flow(flow)\n",
    "    return blocked_hosts      "
   ]
  },
  {
   "cell_type": "markdown",
   "metadata": {},
   "source": [
    "```plot_bro()``` is a utility for plortting the distribution of blocked hosts"
   ]
  },
  {
   "cell_type": "code",
   "execution_count": 9,
   "metadata": {},
   "outputs": [
    {
     "name": "stderr",
     "output_type": "stream",
     "text": [
      "100%|██████████| 105360/105360 [00:00<00:00, 1061798.09it/s]\n",
      "100%|██████████| 105360/105360 [00:00<00:00, 2162609.10it/s]\n",
      "100%|██████████| 105360/105360 [00:00<00:00, 2120305.10it/s]\n",
      "100%|██████████| 105360/105360 [00:00<00:00, 2084391.63it/s]\n",
      "100%|██████████| 105360/105360 [00:00<00:00, 2219190.63it/s]\n",
      "100%|██████████| 105360/105360 [00:00<00:00, 2048695.76it/s]\n",
      "100%|██████████| 105360/105360 [00:00<00:00, 2111450.79it/s]\n",
      "100%|██████████| 105360/105360 [00:00<00:00, 2000225.72it/s]\n",
      "100%|██████████| 105360/105360 [00:00<00:00, 2027016.39it/s]\n",
      "100%|██████████| 105360/105360 [00:00<00:00, 1965415.44it/s]\n",
      "100%|██████████| 105360/105360 [00:00<00:00, 1943674.41it/s]\n",
      "100%|██████████| 105360/105360 [00:00<00:00, 1902430.90it/s]\n"
     ]
    },
    {
     "name": "stdout",
     "output_type": "stream",
     "text": [
      "[1746, 255, 213, 166, 137, 136, 132, 126, 125, 116, 113, 111]\n"
     ]
    },
    {
     "data": {
      "image/png": "[encoded data removed]",
      "text/plain": [
       "<Figure size 640x480 with 1 Axes>"
      ]
     },
     "metadata": {},
     "output_type": "display_data"
    }
   ],
   "source": [
    "import matplotlib.pyplot as plt\n",
    "\n",
    "num_blocked_hosts = []\n",
    "for i in range(1,120,10):\n",
    "    blocked_hosts = run_bro(i)\n",
    "    num_blocked_hosts.append(len(blocked_hosts))\n",
    "# plt.plot(range(1,120,10), num_blocked_hosts, linewidth=3)\n",
    "# plt.show()\n",
    "print(num_blocked_hosts)\n",
    "plt.plot(range(1,120,10), num_blocked_hosts, linewidth=3)\n",
    "plt.xlabel(\"Threshold\", fontsize=16)\n",
    "plt.ylabel(\"Number of Blocked Hosts\", fontsize=16)\n",
    "plt.xticks(fontsize=14)\n",
    "plt.yticks(fontsize=14)\n",
    "plt.title(\"Sensitivity of Bro's Detection Algorithm\", fontsize=16)\n",
    "plt.grid()\n",
    "# plot_bro(num_blocked_hosts)"
   ]
  },
  {
   "cell_type": "code",
   "execution_count": null,
   "metadata": {},
   "outputs": [],
   "source": []
  }
 ],
 "metadata": {
  "kernelspec": {
   "display_name": "base_ml",
   "language": "python",
   "name": "python3"
  },
  "language_info": {
   "codemirror_mode": {
    "name": "ipython",
    "version": 3
   },
   "file_extension": ".py",
   "mimetype": "text/x-python",
   "name": "python",
   "nbconvert_exporter": "python",
   "pygments_lexer": "ipython3",
   "version": "3.12.5"
  }
 },
 "nbformat": 4,
 "nbformat_minor": 2
}
